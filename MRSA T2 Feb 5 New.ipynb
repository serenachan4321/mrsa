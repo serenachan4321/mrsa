{
 "cells": [
  {
   "cell_type": "code",
   "execution_count": 5,
   "id": "af04fcf2-db6a-4445-9878-6761a639656d",
   "metadata": {},
   "outputs": [],
   "source": [
    "import numpy as np\n",
    "import matplotlib.pyplot as plt"
   ]
  },
  {
   "cell_type": "code",
   "execution_count": 1,
   "id": "23a96d15-f476-4e2d-8eaa-4b6320b888bb",
   "metadata": {},
   "outputs": [],
   "source": [
    "#Parameter 1: Dosage of Antibiotic Administration\n",
    "dosage = 16     #doses per treatment\n",
    "bacteria_susceptible = 0.3      #fraction of bacteria (in general) that are susceptible to antibiotics (are killed by the bacteria)  "
   ]
  },
  {
   "cell_type": "code",
   "execution_count": 7,
   "id": "f75c9502-9545-4df3-b419-f1e08a7cf4bc",
   "metadata": {},
   "outputs": [
    {
     "name": "stdout",
     "output_type": "stream",
     "text": [
      "Number of Outstrain Bacteria:  [2.933333333333333, 4.3022222222222215, 6.309925925925924, 9.254558024691356, 13.573351769547322, 19.907582595336073, 29.197787806492904, 42.82342211618959, 62.807685770411396]\n",
      "Number of Instrain Bacteria:  [2.4, 2.88, 3.456, 4.1472, 4.97664, 5.9719679999999995, 7.166361599999999, 8.599633919999999, 10.319560703999999]\n"
     ]
    }
   ],
   "source": [
    "# Modelling the rate of change of bacteria that are not susceptible to antibiotics (no development of resistance) \n",
    "N = 2 #starting number\n",
    "InstrainBacteriaArray = []\n",
    "dt = 1/3 #bacteria doubles every 20 minutes\n",
    "i = 1\n",
    "r = 2 #growth rate (number of bacteria per hour) \n",
    "\n",
    "for i in range (1,10):\n",
    "    dN = (0.7*(r*(N)))*dt   #rate of \"birth\" - rate of change of bacteria that developed resistance\n",
    "    N = N + dN\n",
    "    InstrainBacteriaArray.append(N)\n",
    "    i+=1\n",
    "print(\"Number of Outstrain Bacteria: \", InstrainBacteriaArray)\n",
    "\n",
    "\n",
    "N = 2 #starting number\n",
    "OutstrainBacteriaArray = []\n",
    "dt = 1/3 #bacteria doubles every 20 minutes\n",
    "i = 1\n",
    "r = 2 #growth rate (number of bacteria per hour) \n",
    "\n",
    "for i in range (1,10):\n",
    "    dN = (0.3*(r*(N)))*dt   #rate of \"birth\" - rate of change of bacteria becoming susceptible to/are killed by antibiotics\n",
    "    N = N + dN\n",
    "    OutstrainBacteriaArray.append(N)\n",
    "    i+=1\n",
    "print(\"Number of Instrain Bacteria: \", OutstrainBacteriaArray)\n",
    "\n",
    "\n",
    "plt.figure\n",
    "plt.plot(t_array, U238_list, label=\"U238\")\n",
    "plt.plot(t_array, Th234_list, label=\"Th234\")\n",
    "plt.plot(t_array, Pa234_list, label=\"Pa234\")\n",
    "plt.plot(t_array, U234_list, label=\"U234\")\n",
    "plt.xlabel(\"Time (hours)\")\n",
    "plt.ylabel(\"Concentration (M)\")\n",
    "plt.xlim(0, 9600) \n",
    "plt.ylim(0,1.1)             \n",
    "plt.legend()\n",
    "plt.show()"
   ]
  },
  {
   "cell_type": "code",
   "execution_count": null,
   "id": "d041635f-9972-4c78-8bdc-015cbd4cfac0",
   "metadata": {},
   "outputs": [],
   "source": []
  },
  {
   "cell_type": "code",
   "execution_count": 27,
   "id": "7a5b128d-f971-43e5-85b2-2348b290d035",
   "metadata": {},
   "outputs": [],
   "source": [
    "# Parameter 1: Dosage of Administration\n",
    "def Dosage_Antibiotic(d):\n",
    "    d = 0 #Initial number of doses given = 0\n",
    "    x = 0\n",
    "    DosageArray = []\n",
    "    while x <= d:\n",
    "        x += 1\n",
    "        DosageArray.append(x)\n",
    "    return(DosageArray)"
   ]
  },
  {
   "cell_type": "code",
   "execution_count": 29,
   "id": "a36a3c53-af71-4165-be6b-74c4d9ada48f",
   "metadata": {},
   "outputs": [
    {
     "data": {
      "text/plain": [
       "[1]"
      ]
     },
     "execution_count": 29,
     "metadata": {},
     "output_type": "execute_result"
    }
   ],
   "source": [
    "Dosage_Antibiotic(2)"
   ]
  }
 ],
 "metadata": {
  "kernelspec": {
   "display_name": "Python 3 (ipykernel)",
   "language": "python",
   "name": "python3"
  },
  "language_info": {
   "codemirror_mode": {
    "name": "ipython",
    "version": 3
   },
   "file_extension": ".py",
   "mimetype": "text/x-python",
   "name": "python",
   "nbconvert_exporter": "python",
   "pygments_lexer": "ipython3",
   "version": "3.9.13"
  }
 },
 "nbformat": 4,
 "nbformat_minor": 5
}
