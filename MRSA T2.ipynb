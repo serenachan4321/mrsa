{
 "cells": [
  {
   "cell_type": "code",
   "execution_count": 1,
   "id": "af04fcf2-db6a-4445-9878-6761a639656d",
   "metadata": {},
   "outputs": [],
   "source": [
    "import numpy as np\n",
    "import matplotlib.pyplot as plt"
   ]
  },
  {
   "cell_type": "code",
   "execution_count": 27,
   "id": "7a5b128d-f971-43e5-85b2-2348b290d035",
   "metadata": {},
   "outputs": [],
   "source": [
    "# Parameter 1: Dosage of Administration\n",
    "def Dosage_Antibiotic(d):\n",
    "    d = 0 #Initial number of doses given = 0\n",
    "    x = 0\n",
    "    DosageArray = []\n",
    "    while x <= d:\n",
    "        x += 1\n",
    "        DosageArray.append(x)\n",
    "    return(DosageArray)"
   ]
  },
  {
   "cell_type": "code",
   "execution_count": 29,
   "id": "a36a3c53-af71-4165-be6b-74c4d9ada48f",
   "metadata": {},
   "outputs": [
    {
     "data": {
      "text/plain": [
       "[1]"
      ]
     },
     "execution_count": 29,
     "metadata": {},
     "output_type": "execute_result"
    }
   ],
   "source": [
    "Dosage_Antibiotic(2)"
   ]
  },
  {
   "cell_type": "code",
   "execution_count": null,
   "id": "de694a9d-80c8-4daa-bf8c-74ab0e9604d6",
   "metadata": {},
   "outputs": [],
   "source": []
  }
 ],
 "metadata": {
  "kernelspec": {
   "display_name": "Python 3 (ipykernel)",
   "language": "python",
   "name": "python3"
  },
  "language_info": {
   "codemirror_mode": {
    "name": "ipython",
    "version": 3
   },
   "file_extension": ".py",
   "mimetype": "text/x-python",
   "name": "python",
   "nbconvert_exporter": "python",
   "pygments_lexer": "ipython3",
   "version": "3.9.13"
  }
 },
 "nbformat": 4,
 "nbformat_minor": 5
}
