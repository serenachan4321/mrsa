{
 "cells": [
  {
   "cell_type": "code",
   "execution_count": 5,
   "id": "af04fcf2-db6a-4445-9878-6761a639656d",
   "metadata": {},
   "outputs": [],
   "source": [
    "import numpy as np\n",
    "import matplotlib.pyplot as plt"
   ]
  },
  {
   "cell_type": "code",
   "execution_count": 1,
   "id": "23a96d15-f476-4e2d-8eaa-4b6320b888bb",
   "metadata": {},
   "outputs": [],
   "source": [
    "#Parameter 1: Dosage of Antibiotic Administration\n",
    "dosage = 16     #doses per treatment\n",
    "bacteria_susceptible = 0.3      #fraction of bacteria (in general) that are susceptible to antibiotics  "
   ]
  },
  {
   "cell_type": "code",
   "execution_count": 17,
   "id": "f75c9502-9545-4df3-b419-f1e08a7cf4bc",
   "metadata": {},
   "outputs": [
    {
     "name": "stdout",
     "output_type": "stream",
     "text": [
      "[16.0, 128.0, 1024.0, 8192.0, 65536.0, 524288.0, 4194304.0, 33554432.0, 268435456.0]\n"
     ]
    }
   ],
   "source": [
    "# Modelling the rate of change of bacteria that are not susceptible to antibiotics (no development of resistance) \n",
    "N = 2\n",
    "bacteriaArray = []\n",
    "dt = 1 #number of bacteria doubles every 5 seconds\n",
    "i = 1\n",
    "r = 10\n",
    "\n",
    "for i in range (1,10):\n",
    "    dN = (0.7*(r*(N)))*dt   #rate of \"birth\" - rate of change of bacteria becoming susceptible to antibiotics/developed resistance\n",
    "    N = N + dN\n",
    "    bacteriaArray.append(N)\n",
    "    i+=1\n",
    "print(bacteriaArray)"
   ]
  },
  {
   "cell_type": "code",
   "execution_count": null,
   "id": "72bb6909-4e76-4bf5-b224-a5888e1f7677",
   "metadata": {},
   "outputs": [],
   "source": []
  },
  {
   "cell_type": "code",
   "execution_count": null,
   "id": "60255f96-e6c4-4ce0-90a0-2b6c6435a904",
   "metadata": {},
   "outputs": [],
   "source": []
  },
  {
   "cell_type": "code",
   "execution_count": null,
   "id": "7295da02-2a81-4afb-b0e2-e10f0b24b3de",
   "metadata": {},
   "outputs": [],
   "source": []
  },
  {
   "cell_type": "code",
   "execution_count": null,
   "id": "9f2ddc2e-1c97-4240-a99b-46c4be8e5ddd",
   "metadata": {},
   "outputs": [],
   "source": []
  },
  {
   "cell_type": "code",
   "execution_count": null,
   "id": "9e315da2-b3d0-49b9-92aa-27ac532f952b",
   "metadata": {},
   "outputs": [],
   "source": []
  },
  {
   "cell_type": "code",
   "execution_count": null,
   "id": "49b48114-58df-4d2b-ac71-4db4e217b0be",
   "metadata": {},
   "outputs": [],
   "source": []
  },
  {
   "cell_type": "code",
   "execution_count": 27,
   "id": "7a5b128d-f971-43e5-85b2-2348b290d035",
   "metadata": {},
   "outputs": [],
   "source": [
    "# Parameter 1: Dosage of Administration\n",
    "def Dosage_Antibiotic(d):\n",
    "    d = 0 #Initial number of doses given = 0\n",
    "    x = 0\n",
    "    DosageArray = []\n",
    "    while x <= d:\n",
    "        x += 1\n",
    "        DosageArray.append(x)\n",
    "    return(DosageArray)"
   ]
  },
  {
   "cell_type": "code",
   "execution_count": 29,
   "id": "a36a3c53-af71-4165-be6b-74c4d9ada48f",
   "metadata": {},
   "outputs": [
    {
     "data": {
      "text/plain": [
       "[1]"
      ]
     },
     "execution_count": 29,
     "metadata": {},
     "output_type": "execute_result"
    }
   ],
   "source": [
    "Dosage_Antibiotic(2)"
   ]
  },
  {
   "cell_type": "code",
   "execution_count": null,
   "id": "a7d4acc8-7f39-4ba2-ad84-92baebd369a6",
   "metadata": {},
   "outputs": [],
   "source": []
  }
 ],
 "metadata": {
  "kernelspec": {
   "display_name": "Python 3 (ipykernel)",
   "language": "python",
   "name": "python3"
  },
  "language_info": {
   "codemirror_mode": {
    "name": "ipython",
    "version": 3
   },
   "file_extension": ".py",
   "mimetype": "text/x-python",
   "name": "python",
   "nbconvert_exporter": "python",
   "pygments_lexer": "ipython3",
   "version": "3.9.13"
  }
 },
 "nbformat": 4,
 "nbformat_minor": 5
}
